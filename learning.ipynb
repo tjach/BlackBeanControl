{
 "cells": [
  {
   "cell_type": "code",
   "execution_count": 9,
   "metadata": {
    "collapsed": true
   },
   "outputs": [],
   "source": [
    "import codecs\n",
    "\n",
    "import broadlink\n",
    "\n",
    "devices = broadlink.discover(timeout=5, discover_ip_address='192.168.20.56')"
   ]
  },
  {
   "cell_type": "code",
   "execution_count": 11,
   "outputs": [],
   "source": [
    "auth = devices[0].auth()\n"
   ],
   "metadata": {
    "collapsed": false,
    "pycharm": {
     "name": "#%%\n"
    }
   }
  },
  {
   "cell_type": "code",
   "execution_count": 46,
   "outputs": [],
   "source": [
    "devices[0].enter_learning()"
   ],
   "metadata": {
    "collapsed": false,
    "pycharm": {
     "name": "#%%\n"
    }
   }
  },
  {
   "cell_type": "code",
   "execution_count": 47,
   "outputs": [
    {
     "data": {
      "text/plain": "'26004c026b370f2910280c100c100e0d0d2b0f0d0d0f0c2c0e290f0d0d2b0f0d0c100c2b0f290f0d0c2c0e290f0d0e0e0f290f0d0d0f0d2a0f0d0f0d0e0e0d0f0c100e0e0d0e0d0f0d0f0d0f0c100e0e0e0e0c0f0e0e0d0f0d0f0d0f0c100c100c2b0f0d0d0f0d0f0c100e0e0c2b10280f0d0c100d0f0c0f0e2a0f0d0d2b0f0d0c100c0f0d0f0d0f0d2b0f290d0e0d2b0e2a0f0d0c100c0f0d2b0f0d0d0f0c100c100c2b0f0d0d0f0d0f0d0f0c100c0f0d0f0d0f0d0f0d0f0c100c100c100c0f0d0f0d0f0d0f0d0f0c100c100c0f0d0f0d0f0d0f0d0f0c100c100c0f0d0f0d0f0d0f0d0f0c100c100c100c0f0d0f0d0f0d0f0c100c100c100c0f0d0f0d0f0d0f0d0f0c100c100c0f0d0f0d0f0d0f0d0f0c100c100c0f0d2b0f290f290e290f0d0d0f0d2b0f280f0001a971370e2a0e2a0e0e0c100c0f0d2b0e0e0d0f0c2c0d2a0e0e0d2b0e0e0c100c2b0e2a0f0d0c2c0d2a0f0d0d0f0d2b0f0d0c100c2b0f0d0d0f0d0f0c100c100c0f0d0f0d0f0d0f0d0f0c100c100c0f0d0f0d0f0d0f0d0f0c100c100c0f0d2b0f0d0d0f0c100c100c0f0d2b0f290f0d0c100c100c0f0d2b0f0d0d2b0f0d0c0f0d0f0e0e0d0f0d2b0f280f0d0d2c0f280f0d0c0f0d0f0d2b100c0c100c100c0f0e2a0f0d0d0f0c100c100c100c0f0d0f0d0f0d0f0c100c100c100c0f0d0f0d0f0d0f0d0f0c100d0f0c0f0d0f0d0f0d0f0d0f0c100c100c0f0d0f0d0f0e0e0d0f0c100c100c0f0d0f0d0f0d0f0d0f0c100c100c100c0f0d0f0d0f0d0f0d0f0c100c100c0f0d0f0d0f0d0f0d0f0c100c100c0f0d0f0d2b0e2a0f280f290f0d0d0f0c2c0f280f000d05000000000000000000000000'"
     },
     "execution_count": 47,
     "metadata": {},
     "output_type": "execute_result"
    }
   ],
   "source": [
    "r_packet = devices[0].check_data()\n",
    "r_packet.hex()"
   ],
   "metadata": {
    "collapsed": false,
    "pycharm": {
     "name": "#%%\n"
    }
   }
  }
 ],
 "metadata": {
  "kernelspec": {
   "display_name": "Python 3",
   "language": "python",
   "name": "python3"
  },
  "language_info": {
   "codemirror_mode": {
    "name": "ipython",
    "version": 2
   },
   "file_extension": ".py",
   "mimetype": "text/x-python",
   "name": "python",
   "nbconvert_exporter": "python",
   "pygments_lexer": "ipython2",
   "version": "2.7.6"
  }
 },
 "nbformat": 4,
 "nbformat_minor": 0
}